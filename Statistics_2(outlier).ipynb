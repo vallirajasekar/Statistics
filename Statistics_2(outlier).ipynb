{
  "nbformat": 4,
  "nbformat_minor": 0,
  "metadata": {
    "colab": {
      "provenance": [],
      "authorship_tag": "ABX9TyNpOWL1NN/GM8t7NsmKtGRK",
      "include_colab_link": true
    },
    "kernelspec": {
      "name": "python3",
      "display_name": "Python 3"
    },
    "language_info": {
      "name": "python"
    }
  },
  "cells": [
    {
      "cell_type": "markdown",
      "metadata": {
        "id": "view-in-github",
        "colab_type": "text"
      },
      "source": [
        "<a href=\"https://colab.research.google.com/github/vallirajasekar/Statistics/blob/main/Statistics_2(outlier).ipynb\" target=\"_parent\"><img src=\"https://colab.research.google.com/assets/colab-badge.svg\" alt=\"Open In Colab\"/></a>"
      ]
    },
    {
      "cell_type": "code",
      "execution_count": 15,
      "metadata": {
        "id": "_oITmxsQQCEQ"
      },
      "outputs": [],
      "source": [
        "import numpy as np\n",
        "import matplotlib.pyplot as plt\n",
        "%matplotlib inline"
      ]
    },
    {
      "cell_type": "code",
      "source": [
        "dataset= [15, 20, 18, 22, 21, 19, 23, 17, 16, 20,\n",
        "                        18, 19, 21, 22, 20, 19, 18, 21, 20, 100]"
      ],
      "metadata": {
        "id": "EkEQsf8GQUHo"
      },
      "execution_count": 16,
      "outputs": []
    },
    {
      "cell_type": "code",
      "source": [
        "type(dataset)"
      ],
      "metadata": {
        "colab": {
          "base_uri": "https://localhost:8080/"
        },
        "id": "XpfKtAxLRCkU",
        "outputId": "36c0be2a-145b-46e0-c9d3-138ddcb79dbe"
      },
      "execution_count": 5,
      "outputs": [
        {
          "output_type": "execute_result",
          "data": {
            "text/plain": [
              "list"
            ]
          },
          "metadata": {},
          "execution_count": 5
        }
      ]
    },
    {
      "cell_type": "code",
      "source": [
        "outliers=[]\n",
        "\n",
        "def detect_outlier(dataset):\n",
        "  threshold=3\n",
        "  mean=np.mean(dataset)\n",
        "  std=np.std(dataset)\n",
        "\n",
        "  for i in dataset:\n",
        "    z_score=(i-mean)/std\n",
        "    if np.abs(z_score)>threshold:\n",
        "        outliers.append(i)\n",
        "\n",
        "\n",
        "  return outliers\n",
        "\n",
        "outliers = detect_outlier(dataset)"
      ],
      "metadata": {
        "id": "d82Q37fIRZwb"
      },
      "execution_count": 25,
      "outputs": []
    },
    {
      "cell_type": "code",
      "source": [
        "outliers"
      ],
      "metadata": {
        "colab": {
          "base_uri": "https://localhost:8080/"
        },
        "id": "xZKSj2J0T3f-",
        "outputId": "2dcec1d4-1c7c-4342-b3d3-a628879d4746"
      },
      "execution_count": 26,
      "outputs": [
        {
          "output_type": "execute_result",
          "data": {
            "text/plain": [
              "[100]"
            ]
          },
          "metadata": {},
          "execution_count": 26
        }
      ]
    },
    {
      "cell_type": "code",
      "source": [
        "outliers = []\n",
        "\n",
        "def detect_outlier(data):\n",
        "    threshold = 3\n",
        "    mean = np.mean(data)\n",
        "    std = np.std(data)\n",
        "\n",
        "    for i in data:\n",
        "        z_score = (i - mean) / std\n",
        "        if np.abs(z_score) > threshold:\n",
        "            outliers.append(i)\n",
        "\n",
        "    return outliers\n",
        "\n",
        "outliers = detect_outlier(dataset)\n",
        "print(\"Outliers:\", outliers)"
      ],
      "metadata": {
        "colab": {
          "base_uri": "https://localhost:8080/"
        },
        "id": "65URs65kTxzq",
        "outputId": "0d140b6e-28a1-438c-f971-b473e4efd237"
      },
      "execution_count": 14,
      "outputs": [
        {
          "output_type": "stream",
          "name": "stdout",
          "text": [
            "Outliers: [100]\n"
          ]
        }
      ]
    },
    {
      "cell_type": "code",
      "source": [
        "outliers"
      ],
      "metadata": {
        "colab": {
          "base_uri": "https://localhost:8080/"
        },
        "id": "amPC4U_UTjcQ",
        "outputId": "0897aa46-205a-4bcc-ffb3-ee8bbd701e69"
      },
      "execution_count": 9,
      "outputs": [
        {
          "output_type": "execute_result",
          "data": {
            "text/plain": [
              "[]"
            ]
          },
          "metadata": {},
          "execution_count": 9
        }
      ]
    },
    {
      "cell_type": "code",
      "source": [
        "plt.hist(dataset)"
      ],
      "metadata": {
        "colab": {
          "base_uri": "https://localhost:8080/",
          "height": 501
        },
        "id": "9gb2n1yETbsM",
        "outputId": "e59bc2e5-bdc0-4c3a-f550-b49ac9fe9649"
      },
      "execution_count": 8,
      "outputs": [
        {
          "output_type": "execute_result",
          "data": {
            "text/plain": [
              "(array([19.,  0.,  0.,  0.,  0.,  0.,  0.,  0.,  0.,  1.]),\n",
              " array([ 15. ,  23.5,  32. ,  40.5,  49. ,  57.5,  66. ,  74.5,  83. ,\n",
              "         91.5, 100. ]),\n",
              " <BarContainer object of 10 artists>)"
            ]
          },
          "metadata": {},
          "execution_count": 8
        },
        {
          "output_type": "display_data",
          "data": {
            "text/plain": [
              "<Figure size 640x480 with 1 Axes>"
            ],
            "image/png": "[encoded data removed]"
          },
          "metadata": {}
        }
      ]
    },
    {
      "cell_type": "code",
      "source": [
        "plt.hist(outliers)"
      ],
      "metadata": {
        "colab": {
          "base_uri": "https://localhost:8080/",
          "height": 501
        },
        "id": "548mf12tV3tM",
        "outputId": "86febdfb-943c-49b8-96d3-3cd06f08a545"
      },
      "execution_count": 27,
      "outputs": [
        {
          "output_type": "execute_result",
          "data": {
            "text/plain": [
              "(array([0., 0., 0., 0., 0., 1., 0., 0., 0., 0.]),\n",
              " array([ 99.5,  99.6,  99.7,  99.8,  99.9, 100. , 100.1, 100.2, 100.3,\n",
              "        100.4, 100.5]),\n",
              " <BarContainer object of 10 artists>)"
            ]
          },
          "metadata": {},
          "execution_count": 27
        },
        {
          "output_type": "display_data",
          "data": {
            "text/plain": [
              "<Figure size 640x480 with 1 Axes>"
            ],
            "image/png": "[encoded data removed]"
          },
          "metadata": {}
        }
      ]
    },
    {
      "cell_type": "markdown",
      "source": [
        "##IQR\n",
        "\n",
        "#1.Sort the Data\n",
        "#2.calculate Q1 and Q3\n",
        "#3.IQR(Q3-Q1)\n",
        "#4.find the lower fence(q1-1.5(iqr))\n",
        "#5.find the upper fence(q3+1.5(iqr))"
      ],
      "metadata": {
        "id": "F5hXc6jXXIro"
      }
    },
    {
      "cell_type": "code",
      "source": [
        "##IQR\n",
        "\n",
        "#1.Sort the Data\n",
        "#2.calculate Q1 and Q3\n",
        "#3.IQR(Q3-Q1)\n",
        "#4.find the lower fence(q1-1.5(iqr))\n",
        "#5.find the upper fence(q3+1.5(iqr))"
      ],
      "metadata": {
        "id": "DNHauTrhWg54"
      },
      "execution_count": 28,
      "outputs": []
    },
    {
      "cell_type": "code",
      "source": [
        "dataset=sorted(dataset)"
      ],
      "metadata": {
        "id": "v4QsX9lSXKmU"
      },
      "execution_count": 29,
      "outputs": []
    },
    {
      "cell_type": "code",
      "source": [
        "dataset"
      ],
      "metadata": {
        "colab": {
          "base_uri": "https://localhost:8080/"
        },
        "id": "posvOBBuXR3u",
        "outputId": "39dfe5d4-a1a3-4882-a6e8-1504c54f1367"
      },
      "execution_count": 30,
      "outputs": [
        {
          "output_type": "execute_result",
          "data": {
            "text/plain": [
              "[15,\n",
              " 16,\n",
              " 17,\n",
              " 18,\n",
              " 18,\n",
              " 18,\n",
              " 19,\n",
              " 19,\n",
              " 19,\n",
              " 20,\n",
              " 20,\n",
              " 20,\n",
              " 20,\n",
              " 21,\n",
              " 21,\n",
              " 21,\n",
              " 22,\n",
              " 22,\n",
              " 23,\n",
              " 100]"
            ]
          },
          "metadata": {},
          "execution_count": 30
        }
      ]
    },
    {
      "cell_type": "code",
      "source": [
        "q1,q3=np.percentile(dataset,[25,75])"
      ],
      "metadata": {
        "id": "jBkKEfrIXWcL"
      },
      "execution_count": 31,
      "outputs": []
    },
    {
      "cell_type": "code",
      "source": [
        "print(q1,q3)"
      ],
      "metadata": {
        "colab": {
          "base_uri": "https://localhost:8080/"
        },
        "id": "lbgdh1tXXeUd",
        "outputId": "f387658e-302f-40b0-83ce-6d069c0a9cb6"
      },
      "execution_count": 32,
      "outputs": [
        {
          "output_type": "stream",
          "name": "stdout",
          "text": [
            "18.0 21.0\n"
          ]
        }
      ]
    },
    {
      "cell_type": "code",
      "source": [
        "IQR=q3-q1"
      ],
      "metadata": {
        "id": "hsUysTreXt8V"
      },
      "execution_count": 33,
      "outputs": []
    },
    {
      "cell_type": "code",
      "source": [
        "## Find the Lower fence and Higher Fence\n",
        "\n",
        "lower_fence=q1-(1.5*IQR)"
      ],
      "metadata": {
        "id": "cKDGiWnDXlju"
      },
      "execution_count": 34,
      "outputs": []
    },
    {
      "cell_type": "code",
      "source": [
        "higher_fence=q1+(1.5*IQR)"
      ],
      "metadata": {
        "id": "6s0g-6lZXzOX"
      },
      "execution_count": 35,
      "outputs": []
    },
    {
      "cell_type": "code",
      "source": [
        "print(lower_fence,higher_fence)"
      ],
      "metadata": {
        "colab": {
          "base_uri": "https://localhost:8080/"
        },
        "id": "T0258yOmX4EP",
        "outputId": "91fca4b4-7799-45fa-e7ed-e3981979090d"
      },
      "execution_count": 36,
      "outputs": [
        {
          "output_type": "stream",
          "name": "stdout",
          "text": [
            "13.5 22.5\n"
          ]
        }
      ]
    },
    {
      "cell_type": "code",
      "source": [
        "import seaborn as sns"
      ],
      "metadata": {
        "id": "-SBtnWj5X7qN"
      },
      "execution_count": 37,
      "outputs": []
    },
    {
      "cell_type": "code",
      "source": [
        "sns.boxplot(dataset)"
      ],
      "metadata": {
        "colab": {
          "base_uri": "https://localhost:8080/",
          "height": 448
        },
        "id": "KS7Pc6fIYhYj",
        "outputId": "055d15c6-a177-4a79-fc1a-42212407d2a4"
      },
      "execution_count": 39,
      "outputs": [
        {
          "output_type": "execute_result",
          "data": {
            "text/plain": [
              "<Axes: >"
            ]
          },
          "metadata": {},
          "execution_count": 39
        },
        {
          "output_type": "display_data",
          "data": {
            "text/plain": [
              "<Figure size 640x480 with 1 Axes>"
            ],
            "image/png": "[encoded data removed]"
          },
          "metadata": {}
        }
      ]
    },
    {
      "cell_type": "code",
      "source": [],
      "metadata": {
        "id": "_2oTZtvVZMPO"
      },
      "execution_count": null,
      "outputs": []
    }
  ]
}